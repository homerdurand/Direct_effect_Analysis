{
 "cells": [
  {
   "cell_type": "code",
   "execution_count": 13,
   "metadata": {},
   "outputs": [],
   "source": [
    "import numpy as np\n",
    "from sklearn.linear_model import LinearRegression\n",
    "import scipy\n",
    "from matplotlib import pyplot as plt\n",
    "from sklearn.decomposition import PCA\n",
    "from tqdm import tqdm\n",
    "from scipy.linalg.lapack import zggev\n",
    "from scipy.linalg import block_diag\n",
    "import pandas as pd\n",
    "from sklearn.cross_decomposition import CCA, PLSCanonical\n",
    "from sklearn.preprocessing import StandardScaler\n",
    "from sklearn.model_selection import train_test_split\n",
    "from direct_effect_analysis import * \n",
    "from utils import *\n",
    "from mvlearn.embed import GCCA\n",
    "from pgmpy.estimators import PC\n",
    "from plotnine import ggplot, aes, geom_line, geom_ribbon, scale_x_log10, scale_x_continuous, labs, theme, facet_wrap, ggsave, theme_bw, element_text, facet_grid, scale_color_manual"
   ]
  },
  {
   "cell_type": "code",
   "execution_count": 2,
   "metadata": {},
   "outputs": [],
   "source": [
    "algorithms = ['T_D', 'T_F', 'T_S', 'PCA', 'pCCA']\n",
    "B_conds = ['d', '1', '1/d', '1/d^2']\n",
    "Sigma_conds = ['d', '1', '1/d', '1/d^2']\n",
    "results = {B_cond:{Sigma_cond:{algo: {} for algo in algorithms } for Sigma_cond in Sigma_conds} for B_cond in B_conds} "
   ]
  },
  {
   "cell_type": "code",
   "execution_count": 5,
   "metadata": {},
   "outputs": [],
   "source": [
    "p, r, d, q, rk = 10, 10, 100, 1, 10\n",
    "N = 100\n",
    "dimensions = [2, 5, 10, 20, 50, 100]"
   ]
  },
  {
   "cell_type": "code",
   "execution_count": 6,
   "metadata": {},
   "outputs": [
    {
     "name": "stderr",
     "output_type": "stream",
     "text": [
      "100%|██████████| 4/4 [00:21<00:00,  5.26s/it]\n"
     ]
    }
   ],
   "source": [
    "a, b, c = 0.1, 0.1, 0.8\n",
    "B = 10\n",
    "for B_cond in tqdm(B_conds):\n",
    "    for Sigma_cond in Sigma_conds:\n",
    "        for algo in algorithms:\n",
    "            # print(noise, algo)\n",
    "            CORRS = []\n",
    "            for d in dimensions:\n",
    "                d = int(d)\n",
    "                CORR = []\n",
    "                for j in range(B):\n",
    "\n",
    "                    # Generate parameters\n",
    "                    _, A_z, beta, gamma = parameters(r, p, q, d, False)\n",
    "\n",
    "                    if B_cond == 'd':\n",
    "                        A_x = np.array([i for i in range(d)])[:, None].T\n",
    "                    elif B_cond == '1':\n",
    "                        A_x = np.array([1 for i in range(d)])[:, None].T\n",
    "                    elif B_cond == '1/d':\n",
    "                        A_x = np.array([1/(i+1) for i in range(d)])[:, None].T\n",
    "                    elif B_cond == '1/d^2':\n",
    "                        A_x = np.array([1/((i+1)**2) for i in range(d)])[:, None].T\n",
    "\n",
    "                    if Sigma_cond == 'd':\n",
    "                        Sigma = np.diag(np.array([i for i in range(d)]))\n",
    "                    elif Sigma_cond == '1':\n",
    "                        Sigma = np.identity(d)\n",
    "                    elif Sigma_cond == '1/d':\n",
    "                        Sigma = np.diag(np.array([1/(i+1) for i in range(d)]))\n",
    "                    elif Sigma_cond == '1/d^2':\n",
    "                        Sigma = np.diag(np.array([1/((i+1)**2) for i in range(d)]))\n",
    "\n",
    "\n",
    "                    # Generate training and test data\n",
    "                    if d>50 and N < 200:\n",
    "                        alpha = 1e2\n",
    "                    else :\n",
    "                        alpha = 1e-5\n",
    "                    X_train, Y_train, Z_train, Y_x_train = generate_data_Sigma(N, p, r, d, beta, gamma, A_x, A_z, Sigma, a=a, b=b, c=c)\n",
    "                    dea = DirectEffectAnalysis(type=algo, alpha=1e-5)\n",
    "                    dea.fit(X_train, Y_train, Z_train)\n",
    "                    Y_hat = dea.transform(X_train, Y_train, Z_train)\n",
    "                    corr = np.abs(np.corrcoef(Y_hat, Y_x_train[:,0])[0, 1])\n",
    "                    \n",
    "                    # Compute MSE for each iteration\n",
    "                    CORR.append(corr)\n",
    "                CORRS.append(CORR)\n",
    "            # Append MSE for current sample size\n",
    "            results[B_cond][Sigma_cond][algo] = CORRS"
   ]
  },
  {
   "cell_type": "code",
   "execution_count": 15,
   "metadata": {},
   "outputs": [
    {
     "name": "stderr",
     "output_type": "stream",
     "text": [
      "/tmp/ipykernel_4552/3847085611.py:64: FutureWarning: Using print(plot) to draw and show the plot figure is deprecated and will be removed in a future version. Use plot.show().\n",
      "/home/homer/Documents/Projects/Anchor_Regression_Detection/.conda/lib/python3.9/site-packages/plotnine/scales/scale_manual.py:44: PlotnineWarning: The palette of scale_color_manual can return a maximum of 3 values. 5 were requested from it.\n"
     ]
    },
    {
     "ename": "ValueError",
     "evalue": "Invalid RGBA argument: 'rgba(255, 0, 0, 0.3)'",
     "output_type": "error",
     "traceback": [
      "\u001b[0;31m---------------------------------------------------------------------------\u001b[0m",
      "\u001b[0;31mValueError\u001b[0m                                Traceback (most recent call last)",
      "Cell \u001b[0;32mIn[15], line 64\u001b[0m\n\u001b[1;32m     42\u001b[0m p \u001b[38;5;241m=\u001b[39m (ggplot(df2, aes(x\u001b[38;5;241m=\u001b[39m\u001b[38;5;124m'\u001b[39m\u001b[38;5;124mDimension\u001b[39m\u001b[38;5;124m'\u001b[39m, y\u001b[38;5;241m=\u001b[39m\u001b[38;5;124m'\u001b[39m\u001b[38;5;124mMedian\u001b[39m\u001b[38;5;124m'\u001b[39m, color\u001b[38;5;241m=\u001b[39m\u001b[38;5;124m'\u001b[39m\u001b[38;5;124mAlgorithm\u001b[39m\u001b[38;5;124m'\u001b[39m, fill\u001b[38;5;241m=\u001b[39m\u001b[38;5;124m'\u001b[39m\u001b[38;5;124mAlgorithm\u001b[39m\u001b[38;5;124m'\u001b[39m))\n\u001b[1;32m     43\u001b[0m      \u001b[38;5;241m+\u001b[39m geom_line(size\u001b[38;5;241m=\u001b[39m\u001b[38;5;241m1.5\u001b[39m)\n\u001b[1;32m     44\u001b[0m      \u001b[38;5;241m+\u001b[39m geom_ribbon(aes(ymin\u001b[38;5;241m=\u001b[39m\u001b[38;5;124m'\u001b[39m\u001b[38;5;124mLower\u001b[39m\u001b[38;5;124m'\u001b[39m, ymax\u001b[38;5;241m=\u001b[39m\u001b[38;5;124m'\u001b[39m\u001b[38;5;124mUpper\u001b[39m\u001b[38;5;124m'\u001b[39m, fill\u001b[38;5;241m=\u001b[39m\u001b[38;5;124m'\u001b[39m\u001b[38;5;124mAlgorithm\u001b[39m\u001b[38;5;124m'\u001b[39m, color\u001b[38;5;241m=\u001b[39m\u001b[38;5;124m'\u001b[39m\u001b[38;5;124mAlgorithm\u001b[39m\u001b[38;5;124m'\u001b[39m), alpha\u001b[38;5;241m=\u001b[39m\u001b[38;5;241m0.2\u001b[39m)\n\u001b[0;32m   (...)\u001b[0m\n\u001b[1;32m     59\u001b[0m      )\n\u001b[1;32m     60\u001b[0m )\n\u001b[1;32m     63\u001b[0m \u001b[38;5;66;03m# Display the plot\u001b[39;00m\n\u001b[0;32m---> 64\u001b[0m \u001b[38;5;28;43mprint\u001b[39;49m\u001b[43m(\u001b[49m\u001b[43mp\u001b[49m\u001b[43m)\u001b[49m\n",
      "File \u001b[0;32m~/Documents/Projects/Anchor_Regression_Detection/.conda/lib/python3.9/site-packages/plotnine/ggplot.py:113\u001b[0m, in \u001b[0;36mggplot.__str__\u001b[0;34m(self)\u001b[0m\n\u001b[1;32m    107\u001b[0m msg \u001b[38;5;241m=\u001b[39m (\n\u001b[1;32m    108\u001b[0m     \u001b[38;5;124m\"\u001b[39m\u001b[38;5;124mUsing print(plot) to draw and show the plot figure is \u001b[39m\u001b[38;5;124m\"\u001b[39m\n\u001b[1;32m    109\u001b[0m     \u001b[38;5;124m\"\u001b[39m\u001b[38;5;124mdeprecated and will be removed in a future version. \u001b[39m\u001b[38;5;124m\"\u001b[39m\n\u001b[1;32m    110\u001b[0m     \u001b[38;5;124m\"\u001b[39m\u001b[38;5;124mUse plot.show().\u001b[39m\u001b[38;5;124m\"\u001b[39m\n\u001b[1;32m    111\u001b[0m )\n\u001b[1;32m    112\u001b[0m warn(msg, category\u001b[38;5;241m=\u001b[39m\u001b[38;5;167;01mFutureWarning\u001b[39;00m, stacklevel\u001b[38;5;241m=\u001b[39m\u001b[38;5;241m2\u001b[39m)\n\u001b[0;32m--> 113\u001b[0m \u001b[38;5;28;43mself\u001b[39;49m\u001b[38;5;241;43m.\u001b[39;49m\u001b[43mshow\u001b[49m\u001b[43m(\u001b[49m\u001b[43m)\u001b[49m\n\u001b[1;32m    114\u001b[0m \u001b[38;5;66;03m# Return and empty string so that print(p) is as clean as possible\u001b[39;00m\n\u001b[1;32m    115\u001b[0m \u001b[38;5;28;01mreturn\u001b[39;00m \u001b[38;5;124m\"\u001b[39m\u001b[38;5;124m\"\u001b[39m\n",
      "File \u001b[0;32m~/Documents/Projects/Anchor_Regression_Detection/.conda/lib/python3.9/site-packages/plotnine/ggplot.py:150\u001b[0m, in \u001b[0;36mggplot.show\u001b[0;34m(self)\u001b[0m\n\u001b[1;32m    143\u001b[0m \u001b[38;5;28;01mdef\u001b[39;00m \u001b[38;5;21mshow\u001b[39m(\u001b[38;5;28mself\u001b[39m):\n\u001b[1;32m    144\u001b[0m \u001b[38;5;250m    \u001b[39m\u001b[38;5;124;03m\"\"\"\u001b[39;00m\n\u001b[1;32m    145\u001b[0m \u001b[38;5;124;03m    Show plot using the matplotlib backend set by the user\u001b[39;00m\n\u001b[1;32m    146\u001b[0m \n\u001b[1;32m    147\u001b[0m \u001b[38;5;124;03m    Users should prefer this method instead of printing or repring\u001b[39;00m\n\u001b[1;32m    148\u001b[0m \u001b[38;5;124;03m    the object.\u001b[39;00m\n\u001b[1;32m    149\u001b[0m \u001b[38;5;124;03m    \"\"\"\u001b[39;00m\n\u001b[0;32m--> 150\u001b[0m     \u001b[38;5;28;43mself\u001b[39;49m\u001b[38;5;241;43m.\u001b[39;49m\u001b[43m_display\u001b[49m\u001b[43m(\u001b[49m\u001b[43m)\u001b[49m \u001b[38;5;28;01mif\u001b[39;00m is_inline_backend() \u001b[38;5;28;01melse\u001b[39;00m \u001b[38;5;28mself\u001b[39m\u001b[38;5;241m.\u001b[39mdraw(show\u001b[38;5;241m=\u001b[39m\u001b[38;5;28;01mTrue\u001b[39;00m)\n",
      "File \u001b[0;32m~/Documents/Projects/Anchor_Regression_Detection/.conda/lib/python3.9/site-packages/plotnine/ggplot.py:175\u001b[0m, in \u001b[0;36mggplot._display\u001b[0;34m(self)\u001b[0m\n\u001b[1;32m    172\u001b[0m     save_format \u001b[38;5;241m=\u001b[39m \u001b[38;5;124m\"\u001b[39m\u001b[38;5;124mpng\u001b[39m\u001b[38;5;124m\"\u001b[39m\n\u001b[1;32m    174\u001b[0m buf \u001b[38;5;241m=\u001b[39m BytesIO()\n\u001b[0;32m--> 175\u001b[0m \u001b[38;5;28;43mself\u001b[39;49m\u001b[38;5;241;43m.\u001b[39;49m\u001b[43msave\u001b[49m\u001b[43m(\u001b[49m\u001b[43mbuf\u001b[49m\u001b[43m,\u001b[49m\u001b[43m \u001b[49m\u001b[38;5;28;43mformat\u001b[39;49m\u001b[38;5;241;43m=\u001b[39;49m\u001b[43msave_format\u001b[49m\u001b[43m,\u001b[49m\u001b[43m \u001b[49m\u001b[43mverbose\u001b[49m\u001b[38;5;241;43m=\u001b[39;49m\u001b[38;5;28;43;01mFalse\u001b[39;49;00m\u001b[43m)\u001b[49m\n\u001b[1;32m    176\u001b[0m display_func \u001b[38;5;241m=\u001b[39m get_display_function(\u001b[38;5;28mformat\u001b[39m)\n\u001b[1;32m    177\u001b[0m display_func(buf\u001b[38;5;241m.\u001b[39mgetvalue())\n",
      "File \u001b[0;32m~/Documents/Projects/Anchor_Regression_Detection/.conda/lib/python3.9/site-packages/plotnine/ggplot.py:663\u001b[0m, in \u001b[0;36mggplot.save\u001b[0;34m(self, filename, format, path, width, height, units, dpi, limitsize, verbose, **kwargs)\u001b[0m\n\u001b[1;32m    615\u001b[0m \u001b[38;5;28;01mdef\u001b[39;00m \u001b[38;5;21msave\u001b[39m(\n\u001b[1;32m    616\u001b[0m     \u001b[38;5;28mself\u001b[39m,\n\u001b[1;32m    617\u001b[0m     filename: Optional[\u001b[38;5;28mstr\u001b[39m \u001b[38;5;241m|\u001b[39m Path \u001b[38;5;241m|\u001b[39m BytesIO] \u001b[38;5;241m=\u001b[39m \u001b[38;5;28;01mNone\u001b[39;00m,\n\u001b[0;32m   (...)\u001b[0m\n\u001b[1;32m    626\u001b[0m     \u001b[38;5;241m*\u001b[39m\u001b[38;5;241m*\u001b[39mkwargs: Any,\n\u001b[1;32m    627\u001b[0m ):\n\u001b[1;32m    628\u001b[0m \u001b[38;5;250m    \u001b[39m\u001b[38;5;124;03m\"\"\"\u001b[39;00m\n\u001b[1;32m    629\u001b[0m \u001b[38;5;124;03m    Save a ggplot object as an image file\u001b[39;00m\n\u001b[1;32m    630\u001b[0m \n\u001b[0;32m   (...)\u001b[0m\n\u001b[1;32m    661\u001b[0m \u001b[38;5;124;03m        Additional arguments to pass to matplotlib `savefig()`.\u001b[39;00m\n\u001b[1;32m    662\u001b[0m \u001b[38;5;124;03m    \"\"\"\u001b[39;00m\n\u001b[0;32m--> 663\u001b[0m     sv \u001b[38;5;241m=\u001b[39m \u001b[38;5;28;43mself\u001b[39;49m\u001b[38;5;241;43m.\u001b[39;49m\u001b[43msave_helper\u001b[49m\u001b[43m(\u001b[49m\n\u001b[1;32m    664\u001b[0m \u001b[43m        \u001b[49m\u001b[43mfilename\u001b[49m\u001b[38;5;241;43m=\u001b[39;49m\u001b[43mfilename\u001b[49m\u001b[43m,\u001b[49m\n\u001b[1;32m    665\u001b[0m \u001b[43m        \u001b[49m\u001b[38;5;28;43mformat\u001b[39;49m\u001b[38;5;241;43m=\u001b[39;49m\u001b[38;5;28;43mformat\u001b[39;49m\u001b[43m,\u001b[49m\n\u001b[1;32m    666\u001b[0m \u001b[43m        \u001b[49m\u001b[43mpath\u001b[49m\u001b[38;5;241;43m=\u001b[39;49m\u001b[43mpath\u001b[49m\u001b[43m,\u001b[49m\n\u001b[1;32m    667\u001b[0m \u001b[43m        \u001b[49m\u001b[43mwidth\u001b[49m\u001b[38;5;241;43m=\u001b[39;49m\u001b[43mwidth\u001b[49m\u001b[43m,\u001b[49m\n\u001b[1;32m    668\u001b[0m \u001b[43m        \u001b[49m\u001b[43mheight\u001b[49m\u001b[38;5;241;43m=\u001b[39;49m\u001b[43mheight\u001b[49m\u001b[43m,\u001b[49m\n\u001b[1;32m    669\u001b[0m \u001b[43m        \u001b[49m\u001b[43munits\u001b[49m\u001b[38;5;241;43m=\u001b[39;49m\u001b[43munits\u001b[49m\u001b[43m,\u001b[49m\n\u001b[1;32m    670\u001b[0m \u001b[43m        \u001b[49m\u001b[43mdpi\u001b[49m\u001b[38;5;241;43m=\u001b[39;49m\u001b[43mdpi\u001b[49m\u001b[43m,\u001b[49m\n\u001b[1;32m    671\u001b[0m \u001b[43m        \u001b[49m\u001b[43mlimitsize\u001b[49m\u001b[38;5;241;43m=\u001b[39;49m\u001b[43mlimitsize\u001b[49m\u001b[43m,\u001b[49m\n\u001b[1;32m    672\u001b[0m \u001b[43m        \u001b[49m\u001b[43mverbose\u001b[49m\u001b[38;5;241;43m=\u001b[39;49m\u001b[43mverbose\u001b[49m\u001b[43m,\u001b[49m\n\u001b[1;32m    673\u001b[0m \u001b[43m        \u001b[49m\u001b[38;5;241;43m*\u001b[39;49m\u001b[38;5;241;43m*\u001b[39;49m\u001b[43mkwargs\u001b[49m\u001b[43m,\u001b[49m\n\u001b[1;32m    674\u001b[0m \u001b[43m    \u001b[49m\u001b[43m)\u001b[49m\n\u001b[1;32m    676\u001b[0m     \u001b[38;5;28;01mwith\u001b[39;00m plot_context(\u001b[38;5;28mself\u001b[39m)\u001b[38;5;241m.\u001b[39mrc_context:\n\u001b[1;32m    677\u001b[0m         sv\u001b[38;5;241m.\u001b[39mfigure\u001b[38;5;241m.\u001b[39msavefig(\u001b[38;5;241m*\u001b[39m\u001b[38;5;241m*\u001b[39msv\u001b[38;5;241m.\u001b[39mkwargs)\n",
      "File \u001b[0;32m~/Documents/Projects/Anchor_Regression_Detection/.conda/lib/python3.9/site-packages/plotnine/ggplot.py:612\u001b[0m, in \u001b[0;36mggplot.save_helper\u001b[0;34m(self, filename, format, path, width, height, units, dpi, limitsize, verbose, **kwargs)\u001b[0m\n\u001b[1;32m    609\u001b[0m \u001b[38;5;28;01mif\u001b[39;00m dpi \u001b[38;5;129;01mis\u001b[39;00m \u001b[38;5;129;01mnot\u001b[39;00m \u001b[38;5;28;01mNone\u001b[39;00m:\n\u001b[1;32m    610\u001b[0m     \u001b[38;5;28mself\u001b[39m\u001b[38;5;241m.\u001b[39mtheme \u001b[38;5;241m=\u001b[39m \u001b[38;5;28mself\u001b[39m\u001b[38;5;241m.\u001b[39mtheme \u001b[38;5;241m+\u001b[39m theme(dpi\u001b[38;5;241m=\u001b[39mdpi)\n\u001b[0;32m--> 612\u001b[0m figure \u001b[38;5;241m=\u001b[39m \u001b[38;5;28;43mself\u001b[39;49m\u001b[38;5;241;43m.\u001b[39;49m\u001b[43mdraw\u001b[49m\u001b[43m(\u001b[49m\u001b[43mshow\u001b[49m\u001b[38;5;241;43m=\u001b[39;49m\u001b[38;5;28;43;01mFalse\u001b[39;49;00m\u001b[43m)\u001b[49m\n\u001b[1;32m    613\u001b[0m \u001b[38;5;28;01mreturn\u001b[39;00m mpl_save_view(figure, fig_kwargs)\n",
      "File \u001b[0;32m~/Documents/Projects/Anchor_Regression_Detection/.conda/lib/python3.9/site-packages/plotnine/ggplot.py:280\u001b[0m, in \u001b[0;36mggplot.draw\u001b[0;34m(self, show)\u001b[0m\n\u001b[1;32m    277\u001b[0m \u001b[38;5;28mself\u001b[39m\u001b[38;5;241m.\u001b[39mtheme\u001b[38;5;241m.\u001b[39msetup(\u001b[38;5;28mself\u001b[39m)\n\u001b[1;32m    279\u001b[0m \u001b[38;5;66;03m# Drawing\u001b[39;00m\n\u001b[0;32m--> 280\u001b[0m \u001b[38;5;28;43mself\u001b[39;49m\u001b[38;5;241;43m.\u001b[39;49m\u001b[43m_draw_layers\u001b[49m\u001b[43m(\u001b[49m\u001b[43m)\u001b[49m\n\u001b[1;32m    281\u001b[0m \u001b[38;5;28mself\u001b[39m\u001b[38;5;241m.\u001b[39m_draw_panel_borders()\n\u001b[1;32m    282\u001b[0m \u001b[38;5;28mself\u001b[39m\u001b[38;5;241m.\u001b[39m_draw_breaks_and_labels()\n",
      "File \u001b[0;32m~/Documents/Projects/Anchor_Regression_Detection/.conda/lib/python3.9/site-packages/plotnine/ggplot.py:444\u001b[0m, in \u001b[0;36mggplot._draw_layers\u001b[0;34m(self)\u001b[0m\n\u001b[1;32m    440\u001b[0m \u001b[38;5;250m\u001b[39m\u001b[38;5;124;03m\"\"\"\u001b[39;00m\n\u001b[1;32m    441\u001b[0m \u001b[38;5;124;03mDraw the main plot(s) onto the axes.\u001b[39;00m\n\u001b[1;32m    442\u001b[0m \u001b[38;5;124;03m\"\"\"\u001b[39;00m\n\u001b[1;32m    443\u001b[0m \u001b[38;5;66;03m# Draw the geoms\u001b[39;00m\n\u001b[0;32m--> 444\u001b[0m \u001b[38;5;28;43mself\u001b[39;49m\u001b[38;5;241;43m.\u001b[39;49m\u001b[43mlayers\u001b[49m\u001b[38;5;241;43m.\u001b[39;49m\u001b[43mdraw\u001b[49m\u001b[43m(\u001b[49m\u001b[38;5;28;43mself\u001b[39;49m\u001b[38;5;241;43m.\u001b[39;49m\u001b[43mlayout\u001b[49m\u001b[43m,\u001b[49m\u001b[43m \u001b[49m\u001b[38;5;28;43mself\u001b[39;49m\u001b[38;5;241;43m.\u001b[39;49m\u001b[43mcoordinates\u001b[49m\u001b[43m)\u001b[49m\n",
      "File \u001b[0;32m~/Documents/Projects/Anchor_Regression_Detection/.conda/lib/python3.9/site-packages/plotnine/layer.py:453\u001b[0m, in \u001b[0;36mLayers.draw\u001b[0;34m(self, layout, coord)\u001b[0m\n\u001b[1;32m    451\u001b[0m \u001b[38;5;28;01mfor\u001b[39;00m i, l \u001b[38;5;129;01min\u001b[39;00m \u001b[38;5;28menumerate\u001b[39m(\u001b[38;5;28mself\u001b[39m, start\u001b[38;5;241m=\u001b[39m\u001b[38;5;241m1\u001b[39m):\n\u001b[1;32m    452\u001b[0m     l\u001b[38;5;241m.\u001b[39mzorder \u001b[38;5;241m=\u001b[39m i\n\u001b[0;32m--> 453\u001b[0m     \u001b[43ml\u001b[49m\u001b[38;5;241;43m.\u001b[39;49m\u001b[43mdraw\u001b[49m\u001b[43m(\u001b[49m\u001b[43mlayout\u001b[49m\u001b[43m,\u001b[49m\u001b[43m \u001b[49m\u001b[43mcoord\u001b[49m\u001b[43m)\u001b[49m\n",
      "File \u001b[0;32m~/Documents/Projects/Anchor_Regression_Detection/.conda/lib/python3.9/site-packages/plotnine/layer.py:367\u001b[0m, in \u001b[0;36mlayer.draw\u001b[0;34m(self, layout, coord)\u001b[0m\n\u001b[1;32m    364\u001b[0m \u001b[38;5;28mself\u001b[39m\u001b[38;5;241m.\u001b[39mdata \u001b[38;5;241m=\u001b[39m \u001b[38;5;28mself\u001b[39m\u001b[38;5;241m.\u001b[39mgeom\u001b[38;5;241m.\u001b[39mhandle_na(\u001b[38;5;28mself\u001b[39m\u001b[38;5;241m.\u001b[39mdata)\n\u001b[1;32m    365\u001b[0m \u001b[38;5;66;03m# At this point each layer must have the data\u001b[39;00m\n\u001b[1;32m    366\u001b[0m \u001b[38;5;66;03m# that is created by the plot build process\u001b[39;00m\n\u001b[0;32m--> 367\u001b[0m \u001b[38;5;28;43mself\u001b[39;49m\u001b[38;5;241;43m.\u001b[39;49m\u001b[43mgeom\u001b[49m\u001b[38;5;241;43m.\u001b[39;49m\u001b[43mdraw_layer\u001b[49m\u001b[43m(\u001b[49m\u001b[38;5;28;43mself\u001b[39;49m\u001b[38;5;241;43m.\u001b[39;49m\u001b[43mdata\u001b[49m\u001b[43m,\u001b[49m\u001b[43m \u001b[49m\u001b[43mlayout\u001b[49m\u001b[43m,\u001b[49m\u001b[43m \u001b[49m\u001b[43mcoord\u001b[49m\u001b[43m,\u001b[49m\u001b[43m \u001b[49m\u001b[38;5;241;43m*\u001b[39;49m\u001b[38;5;241;43m*\u001b[39;49m\u001b[43mparams\u001b[49m\u001b[43m)\u001b[49m\n",
      "File \u001b[0;32m~/Documents/Projects/Anchor_Regression_Detection/.conda/lib/python3.9/site-packages/plotnine/geoms/geom.py:289\u001b[0m, in \u001b[0;36mgeom.draw_layer\u001b[0;34m(self, data, layout, coord, **params)\u001b[0m\n\u001b[1;32m    287\u001b[0m panel_params \u001b[38;5;241m=\u001b[39m layout\u001b[38;5;241m.\u001b[39mpanel_params[ploc]\n\u001b[1;32m    288\u001b[0m ax \u001b[38;5;241m=\u001b[39m layout\u001b[38;5;241m.\u001b[39maxs[ploc]\n\u001b[0;32m--> 289\u001b[0m \u001b[38;5;28;43mself\u001b[39;49m\u001b[38;5;241;43m.\u001b[39;49m\u001b[43mdraw_panel\u001b[49m\u001b[43m(\u001b[49m\u001b[43mpdata\u001b[49m\u001b[43m,\u001b[49m\u001b[43m \u001b[49m\u001b[43mpanel_params\u001b[49m\u001b[43m,\u001b[49m\u001b[43m \u001b[49m\u001b[43mcoord\u001b[49m\u001b[43m,\u001b[49m\u001b[43m \u001b[49m\u001b[43max\u001b[49m\u001b[43m,\u001b[49m\u001b[43m \u001b[49m\u001b[38;5;241;43m*\u001b[39;49m\u001b[38;5;241;43m*\u001b[39;49m\u001b[43mparams\u001b[49m\u001b[43m)\u001b[49m\n",
      "File \u001b[0;32m~/Documents/Projects/Anchor_Regression_Detection/.conda/lib/python3.9/site-packages/plotnine/geoms/geom_path.py:148\u001b[0m, in \u001b[0;36mgeom_path.draw_panel\u001b[0;34m(self, data, panel_params, coord, ax, **params)\u001b[0m\n\u001b[1;32m    146\u001b[0m \u001b[38;5;28;01mfor\u001b[39;00m _, gdata \u001b[38;5;129;01min\u001b[39;00m data\u001b[38;5;241m.\u001b[39mgroupby(\u001b[38;5;124m\"\u001b[39m\u001b[38;5;124mgroup\u001b[39m\u001b[38;5;124m\"\u001b[39m):\n\u001b[1;32m    147\u001b[0m     gdata\u001b[38;5;241m.\u001b[39mreset_index(inplace\u001b[38;5;241m=\u001b[39m\u001b[38;5;28;01mTrue\u001b[39;00m, drop\u001b[38;5;241m=\u001b[39m\u001b[38;5;28;01mTrue\u001b[39;00m)\n\u001b[0;32m--> 148\u001b[0m     \u001b[38;5;28;43mself\u001b[39;49m\u001b[38;5;241;43m.\u001b[39;49m\u001b[43mdraw_group\u001b[49m\u001b[43m(\u001b[49m\u001b[43mgdata\u001b[49m\u001b[43m,\u001b[49m\u001b[43m \u001b[49m\u001b[43mpanel_params\u001b[49m\u001b[43m,\u001b[49m\u001b[43m \u001b[49m\u001b[43mcoord\u001b[49m\u001b[43m,\u001b[49m\u001b[43m \u001b[49m\u001b[43max\u001b[49m\u001b[43m,\u001b[49m\u001b[43m \u001b[49m\u001b[38;5;241;43m*\u001b[39;49m\u001b[38;5;241;43m*\u001b[39;49m\u001b[43mparams\u001b[49m\u001b[43m)\u001b[49m\n",
      "File \u001b[0;32m~/Documents/Projects/Anchor_Regression_Detection/.conda/lib/python3.9/site-packages/plotnine/geoms/geom_path.py:169\u001b[0m, in \u001b[0;36mgeom_path.draw_group\u001b[0;34m(data, panel_params, coord, ax, **params)\u001b[0m\n\u001b[1;32m    167\u001b[0m     _draw_segments(data, ax, \u001b[38;5;241m*\u001b[39m\u001b[38;5;241m*\u001b[39mparams)\n\u001b[1;32m    168\u001b[0m \u001b[38;5;28;01melse\u001b[39;00m:\n\u001b[0;32m--> 169\u001b[0m     \u001b[43m_draw_lines\u001b[49m\u001b[43m(\u001b[49m\u001b[43mdata\u001b[49m\u001b[43m,\u001b[49m\u001b[43m \u001b[49m\u001b[43max\u001b[49m\u001b[43m,\u001b[49m\u001b[43m \u001b[49m\u001b[38;5;241;43m*\u001b[39;49m\u001b[38;5;241;43m*\u001b[39;49m\u001b[43mparams\u001b[49m\u001b[43m)\u001b[49m\n\u001b[1;32m    171\u001b[0m \u001b[38;5;28;01mif\u001b[39;00m \u001b[38;5;124m\"\u001b[39m\u001b[38;5;124marrow\u001b[39m\u001b[38;5;124m\"\u001b[39m \u001b[38;5;129;01min\u001b[39;00m params \u001b[38;5;129;01mand\u001b[39;00m params[\u001b[38;5;124m\"\u001b[39m\u001b[38;5;124marrow\u001b[39m\u001b[38;5;124m\"\u001b[39m]:\n\u001b[1;32m    172\u001b[0m     params[\u001b[38;5;124m\"\u001b[39m\u001b[38;5;124marrow\u001b[39m\u001b[38;5;124m\"\u001b[39m]\u001b[38;5;241m.\u001b[39mdraw(\n\u001b[1;32m    173\u001b[0m         data, panel_params, coord, ax, constant\u001b[38;5;241m=\u001b[39mconstant, \u001b[38;5;241m*\u001b[39m\u001b[38;5;241m*\u001b[39mparams\n\u001b[1;32m    174\u001b[0m     )\n",
      "File \u001b[0;32m~/Documents/Projects/Anchor_Regression_Detection/.conda/lib/python3.9/site-packages/plotnine/geoms/geom_path.py:503\u001b[0m, in \u001b[0;36m_draw_lines\u001b[0;34m(data, ax, **params)\u001b[0m\n\u001b[1;32m    497\u001b[0m \u001b[38;5;250m\u001b[39m\u001b[38;5;124;03m\"\"\"\u001b[39;00m\n\u001b[1;32m    498\u001b[0m \u001b[38;5;124;03mDraw a path with the same characteristics from the\u001b[39;00m\n\u001b[1;32m    499\u001b[0m \u001b[38;5;124;03mfirst point to the last point\u001b[39;00m\n\u001b[1;32m    500\u001b[0m \u001b[38;5;124;03m\"\"\"\u001b[39;00m\n\u001b[1;32m    501\u001b[0m \u001b[38;5;28;01mfrom\u001b[39;00m \u001b[38;5;21;01mmatplotlib\u001b[39;00m\u001b[38;5;21;01m.\u001b[39;00m\u001b[38;5;21;01mlines\u001b[39;00m \u001b[38;5;28;01mimport\u001b[39;00m Line2D\n\u001b[0;32m--> 503\u001b[0m color \u001b[38;5;241m=\u001b[39m \u001b[43mto_rgba\u001b[49m\u001b[43m(\u001b[49m\u001b[43mdata\u001b[49m\u001b[43m[\u001b[49m\u001b[38;5;124;43m\"\u001b[39;49m\u001b[38;5;124;43mcolor\u001b[39;49m\u001b[38;5;124;43m\"\u001b[39;49m\u001b[43m]\u001b[49m\u001b[38;5;241;43m.\u001b[39;49m\u001b[43miloc\u001b[49m\u001b[43m[\u001b[49m\u001b[38;5;241;43m0\u001b[39;49m\u001b[43m]\u001b[49m\u001b[43m,\u001b[49m\u001b[43m \u001b[49m\u001b[43mdata\u001b[49m\u001b[43m[\u001b[49m\u001b[38;5;124;43m\"\u001b[39;49m\u001b[38;5;124;43malpha\u001b[39;49m\u001b[38;5;124;43m\"\u001b[39;49m\u001b[43m]\u001b[49m\u001b[38;5;241;43m.\u001b[39;49m\u001b[43miloc\u001b[49m\u001b[43m[\u001b[49m\u001b[38;5;241;43m0\u001b[39;49m\u001b[43m]\u001b[49m\u001b[43m)\u001b[49m\n\u001b[1;32m    504\u001b[0m join_style \u001b[38;5;241m=\u001b[39m _get_joinstyle(data, params)\n\u001b[1;32m    505\u001b[0m lines \u001b[38;5;241m=\u001b[39m Line2D(\n\u001b[1;32m    506\u001b[0m     data[\u001b[38;5;124m\"\u001b[39m\u001b[38;5;124mx\u001b[39m\u001b[38;5;124m\"\u001b[39m],\n\u001b[1;32m    507\u001b[0m     data[\u001b[38;5;124m\"\u001b[39m\u001b[38;5;124my\u001b[39m\u001b[38;5;124m\"\u001b[39m],\n\u001b[0;32m   (...)\u001b[0m\n\u001b[1;32m    513\u001b[0m     \u001b[38;5;241m*\u001b[39m\u001b[38;5;241m*\u001b[39mjoin_style,\n\u001b[1;32m    514\u001b[0m )\n",
      "File \u001b[0;32m~/Documents/Projects/Anchor_Regression_Detection/.conda/lib/python3.9/site-packages/plotnine/_utils/__init__.py:626\u001b[0m, in \u001b[0;36mto_rgba\u001b[0;34m(colors, alpha)\u001b[0m\n\u001b[1;32m    624\u001b[0m     \u001b[38;5;28;01mreturn\u001b[39;00m [to_rgba_hex(colors, a) \u001b[38;5;28;01mfor\u001b[39;00m a \u001b[38;5;129;01min\u001b[39;00m alpha]\n\u001b[1;32m    625\u001b[0m \u001b[38;5;28;01melse\u001b[39;00m:\n\u001b[0;32m--> 626\u001b[0m     \u001b[38;5;28;01mreturn\u001b[39;00m \u001b[43mto_rgba_hex\u001b[49m\u001b[43m(\u001b[49m\u001b[43mcolors\u001b[49m\u001b[43m,\u001b[49m\u001b[43m \u001b[49m\u001b[43malpha\u001b[49m\u001b[43m)\u001b[49m\n",
      "File \u001b[0;32m~/Documents/Projects/Anchor_Regression_Detection/.conda/lib/python3.9/site-packages/plotnine/_utils/__init__.py:599\u001b[0m, in \u001b[0;36mto_rgba.<locals>.to_rgba_hex\u001b[0;34m(c, a)\u001b[0m\n\u001b[1;32m    596\u001b[0m     \u001b[38;5;28;01mreturn\u001b[39;00m c\n\u001b[1;32m    598\u001b[0m _has_alpha \u001b[38;5;241m=\u001b[39m has_alpha(c)\n\u001b[0;32m--> 599\u001b[0m c \u001b[38;5;241m=\u001b[39m \u001b[43mto_hex\u001b[49m\u001b[43m(\u001b[49m\u001b[43mc\u001b[49m\u001b[43m,\u001b[49m\u001b[43m \u001b[49m\u001b[43mkeep_alpha\u001b[49m\u001b[38;5;241;43m=\u001b[39;49m\u001b[43m_has_alpha\u001b[49m\u001b[43m)\u001b[49m\n\u001b[1;32m    601\u001b[0m \u001b[38;5;28;01mif\u001b[39;00m \u001b[38;5;129;01mnot\u001b[39;00m _has_alpha:\n\u001b[1;32m    602\u001b[0m     arr \u001b[38;5;241m=\u001b[39m colorConverter\u001b[38;5;241m.\u001b[39mto_rgba(c, a)\n",
      "File \u001b[0;32m~/Documents/Projects/Anchor_Regression_Detection/.conda/lib/python3.9/site-packages/matplotlib/colors.py:533\u001b[0m, in \u001b[0;36mto_hex\u001b[0;34m(c, keep_alpha)\u001b[0m\n\u001b[1;32m    517\u001b[0m \u001b[38;5;28;01mdef\u001b[39;00m \u001b[38;5;21mto_hex\u001b[39m(c, keep_alpha\u001b[38;5;241m=\u001b[39m\u001b[38;5;28;01mFalse\u001b[39;00m):\n\u001b[1;32m    518\u001b[0m \u001b[38;5;250m    \u001b[39m\u001b[38;5;124;03m\"\"\"\u001b[39;00m\n\u001b[1;32m    519\u001b[0m \u001b[38;5;124;03m    Convert *c* to a hex color.\u001b[39;00m\n\u001b[1;32m    520\u001b[0m \n\u001b[0;32m   (...)\u001b[0m\n\u001b[1;32m    531\u001b[0m \u001b[38;5;124;03m      ``#rrggbb`` or ``#rrggbbaa`` hex color string\u001b[39;00m\n\u001b[1;32m    532\u001b[0m \u001b[38;5;124;03m    \"\"\"\u001b[39;00m\n\u001b[0;32m--> 533\u001b[0m     c \u001b[38;5;241m=\u001b[39m \u001b[43mto_rgba\u001b[49m\u001b[43m(\u001b[49m\u001b[43mc\u001b[49m\u001b[43m)\u001b[49m\n\u001b[1;32m    534\u001b[0m     \u001b[38;5;28;01mif\u001b[39;00m \u001b[38;5;129;01mnot\u001b[39;00m keep_alpha:\n\u001b[1;32m    535\u001b[0m         c \u001b[38;5;241m=\u001b[39m c[:\u001b[38;5;241m3\u001b[39m]\n",
      "File \u001b[0;32m~/Documents/Projects/Anchor_Regression_Detection/.conda/lib/python3.9/site-packages/matplotlib/colors.py:302\u001b[0m, in \u001b[0;36mto_rgba\u001b[0;34m(c, alpha)\u001b[0m\n\u001b[1;32m    300\u001b[0m     rgba \u001b[38;5;241m=\u001b[39m \u001b[38;5;28;01mNone\u001b[39;00m\n\u001b[1;32m    301\u001b[0m \u001b[38;5;28;01mif\u001b[39;00m rgba \u001b[38;5;129;01mis\u001b[39;00m \u001b[38;5;28;01mNone\u001b[39;00m:  \u001b[38;5;66;03m# Suppress exception chaining of cache lookup failure.\u001b[39;00m\n\u001b[0;32m--> 302\u001b[0m     rgba \u001b[38;5;241m=\u001b[39m \u001b[43m_to_rgba_no_colorcycle\u001b[49m\u001b[43m(\u001b[49m\u001b[43mc\u001b[49m\u001b[43m,\u001b[49m\u001b[43m \u001b[49m\u001b[43malpha\u001b[49m\u001b[43m)\u001b[49m\n\u001b[1;32m    303\u001b[0m     \u001b[38;5;28;01mtry\u001b[39;00m:\n\u001b[1;32m    304\u001b[0m         _colors_full_map\u001b[38;5;241m.\u001b[39mcache[c, alpha] \u001b[38;5;241m=\u001b[39m rgba\n",
      "File \u001b[0;32m~/Documents/Projects/Anchor_Regression_Detection/.conda/lib/python3.9/site-packages/matplotlib/colors.py:384\u001b[0m, in \u001b[0;36m_to_rgba_no_colorcycle\u001b[0;34m(c, alpha)\u001b[0m\n\u001b[1;32m    380\u001b[0m             \u001b[38;5;28;01mraise\u001b[39;00m \u001b[38;5;167;01mValueError\u001b[39;00m(\n\u001b[1;32m    381\u001b[0m                 \u001b[38;5;124mf\u001b[39m\u001b[38;5;124m\"\u001b[39m\u001b[38;5;124mInvalid string grayscale value \u001b[39m\u001b[38;5;132;01m{\u001b[39;00morig_c\u001b[38;5;132;01m!r}\u001b[39;00m\u001b[38;5;124m. \u001b[39m\u001b[38;5;124m\"\u001b[39m\n\u001b[1;32m    382\u001b[0m                 \u001b[38;5;124mf\u001b[39m\u001b[38;5;124m\"\u001b[39m\u001b[38;5;124mValue must be within 0-1 range\u001b[39m\u001b[38;5;124m\"\u001b[39m)\n\u001b[1;32m    383\u001b[0m         \u001b[38;5;28;01mreturn\u001b[39;00m c, c, c, alpha \u001b[38;5;28;01mif\u001b[39;00m alpha \u001b[38;5;129;01mis\u001b[39;00m \u001b[38;5;129;01mnot\u001b[39;00m \u001b[38;5;28;01mNone\u001b[39;00m \u001b[38;5;28;01melse\u001b[39;00m \u001b[38;5;241m1.\u001b[39m\n\u001b[0;32m--> 384\u001b[0m     \u001b[38;5;28;01mraise\u001b[39;00m \u001b[38;5;167;01mValueError\u001b[39;00m(\u001b[38;5;124mf\u001b[39m\u001b[38;5;124m\"\u001b[39m\u001b[38;5;124mInvalid RGBA argument: \u001b[39m\u001b[38;5;132;01m{\u001b[39;00morig_c\u001b[38;5;132;01m!r}\u001b[39;00m\u001b[38;5;124m\"\u001b[39m)\n\u001b[1;32m    385\u001b[0m \u001b[38;5;66;03m# turn 2-D array into 1-D array\u001b[39;00m\n\u001b[1;32m    386\u001b[0m \u001b[38;5;28;01mif\u001b[39;00m \u001b[38;5;28misinstance\u001b[39m(c, np\u001b[38;5;241m.\u001b[39mndarray):\n",
      "\u001b[0;31mValueError\u001b[0m: Invalid RGBA argument: 'rgba(255, 0, 0, 0.3)'"
     ]
    }
   ],
   "source": [
    "# Assuming you have the following data structures\n",
    "algo_names = {'T_D':'T_D', 'T_F':'T_F', 'T_S':'T_S', 'PCA':'PCA', 'pCCA':'pCCA'}\n",
    "# results, B_conds, Sigma_conds, algorithms, dimensions are defined elsewhere\n",
    "\n",
    "# Prepare data for ggplot\n",
    "data = []\n",
    "for B_cond in B_conds:\n",
    "    for Sigma_cond in Sigma_conds:\n",
    "        for algo in algorithms:\n",
    "            algo_data = results[B_cond][Sigma_cond][algo]\n",
    "            values = np.array(algo_data)\n",
    "            median = np.percentile(values, 50, axis=1)\n",
    "            lower = np.percentile(values, 5, axis=1)\n",
    "            upper = np.percentile(values, 95, axis=1)\n",
    "            \n",
    "            for i, dim in enumerate(dimensions):\n",
    "                data.append({\n",
    "                    'Dimension': dim,\n",
    "                    'Median': median[i],\n",
    "                    'Lower': lower[i],\n",
    "                    'Upper': upper[i],\n",
    "                    'Algorithm': algo_names[algo],\n",
    "                    'Sigma': Sigma_cond,\n",
    "                    'B': B_cond  # Add weight name to the data\n",
    "                })\n",
    "\n",
    "# Create a DataFrame\n",
    "df = pd.DataFrame(data)\n",
    "df['B'] = df['B'].astype('category')\n",
    "df['B'] = df['B'].cat.reorder_categories(['d', '1', '1/d', '1/d^2'])\n",
    "\n",
    "df['Sigma'] = df['Sigma'].astype('category')\n",
    "df['Sigma'] = df['Sigma'].cat.reorder_categories(['d', '1', '1/d', '1/d^2'])\n",
    "\n",
    "\n",
    "# df2 = df[df['Algorithm']!='PCA']\n",
    "df2 = df\n",
    "\n",
    "# Create a new column for the facet label\n",
    "df2['Facet_Label'] = '$\\\\mathbf{\\\\sigma}=' + df2['Sigma'].astype(str) + ',\\\\hspace{1} \\\\mathbf{b}_i=' + df2['B'].astype(str) + '$'\n",
    "\n",
    "p = (ggplot(df2, aes(x='Dimension', y='Median', color='Algorithm', fill='Algorithm'))\n",
    "     + geom_line(size=1.5)\n",
    "     + geom_ribbon(aes(ymin='Lower', ymax='Upper', fill='Algorithm', color='Algorithm'), alpha=0.2)\n",
    "     + scale_color_manual(values={'PCA': 'rgba(255, 0, 0, 0.3)', 'Alg2': 'rgba(0, 255, 0, 0.3)', 'Alg3': 'rgba(0, 0, 255, 0.3)'})  # Adjust opacity\n",
    "     + scale_x_log10(breaks=dimensions)  \n",
    "     + labs(x='Dimension (d)', y='Absolute Correlation')\n",
    "     + facet_grid(rows=\"B\", cols=\"Sigma\", labeller=\"label_both\")\n",
    "     + theme_bw()\n",
    "     + theme(\n",
    "         legend_position='bottom', \n",
    "         figure_size=(12, 12),\n",
    "         axis_title=element_text(size=23),\n",
    "         axis_text=element_text(size=22),\n",
    "         axis_text_x=element_text(angle=55, hjust=1),\n",
    "         legend_title=element_text(size=22),\n",
    "         legend_text=element_text(size=25),\n",
    "         strip_text=element_text(size=18)\n",
    "     )\n",
    ")\n",
    "\n",
    "\n",
    "# Display the plot\n",
    "print(p)\n"
   ]
  },
  {
   "cell_type": "code",
   "execution_count": null,
   "metadata": {},
   "outputs": [],
   "source": []
  }
 ],
 "metadata": {
  "kernelspec": {
   "display_name": "Python 3",
   "language": "python",
   "name": "python3"
  },
  "language_info": {
   "codemirror_mode": {
    "name": "ipython",
    "version": 3
   },
   "file_extension": ".py",
   "mimetype": "text/x-python",
   "name": "python",
   "nbconvert_exporter": "python",
   "pygments_lexer": "ipython3",
   "version": "3.9.19"
  }
 },
 "nbformat": 4,
 "nbformat_minor": 2
}
